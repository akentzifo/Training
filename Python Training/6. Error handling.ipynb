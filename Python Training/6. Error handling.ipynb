{
  "cells": [
    {
      "cell_type": "markdown",
      "metadata": {
        "id": "KK1pUVL0InnK"
      },
      "source": [
        "# Exception and Error Handling\n",
        "\n",
        "When running your code, if an error is found in your code, the execution will be stopped by the python interpreter.\n",
        "\n",
        "For example, running the code below should generate an error with the message \"NameError: name 'x' is not defined\".\n",
        "\n",
        "The execution of the code will also be stopped at this point, so the \"Next line\" message will not get printed."
      ]
    },
    {
      "cell_type": "code",
      "execution_count": null,
      "metadata": {
        "colab": {
          "base_uri": "https://localhost:8080/",
          "height": 184
        },
        "id": "0FlXzmrnSuLA",
        "outputId": "e3a3caa0-85f7-45cd-8569-104de86a511c"
      },
      "outputs": [],
      "source": [
        "print(x)\n",
        "print(\"Next line\")"
      ]
    },
    {
      "cell_type": "markdown",
      "metadata": {
        "id": "vDMonTfIUQGp"
      },
      "source": [
        "In this tutorial, we will explore how these errors can be monitored, whilst allowing the code to continue running.\n",
        "\n",
        "We can use a **try** block in python, to write what we want the program to do when errors are found.\n",
        "\n",
        "Consider the following example:"
      ]
    },
    {
      "cell_type": "code",
      "execution_count": null,
      "metadata": {
        "colab": {
          "base_uri": "https://localhost:8080/"
        },
        "id": "7TLfYTGLGYJM",
        "outputId": "0f3db008-ebf0-4350-c107-d31afe9a5479"
      },
      "outputs": [],
      "source": [
        "try:\n",
        "    print(x)\n",
        "except NameError:\n",
        "    print(\"An error has occured of NameError\")\n",
        "    print(\"Creating variable x\")\n",
        "    x = \"\"\n",
        "\n",
        "\n",
        "print(\"Next line\")\n",
        "\n"
      ]
    },
    {
      "cell_type": "markdown",
      "metadata": {
        "id": "tfLsvr9aV-3g"
      },
      "source": [
        "This try block has essentially caught the error, allowing the code to continue running, so we see that the \"Next line\" message is also printed.\n",
        "\n",
        "It is good practice for the except block to also mitigate the error, ie. creating the missing variable in this instance.\n",
        "\n",
        "Another type of error is a zero division error. We can prepare our code for multiple types of errors, as shown in the example below:"
      ]
    },
    {
      "cell_type": "code",
      "execution_count": null,
      "metadata": {},
      "outputs": [],
      "source": []
    },
    {
      "cell_type": "code",
      "execution_count": null,
      "metadata": {
        "colab": {
          "base_uri": "https://localhost:8080/"
        },
        "id": "ihXvvXlDWqSJ",
        "outputId": "212adb51-209d-4df5-d143-7e57c216a1f8"
      },
      "outputs": [],
      "source": [
        "try:\n",
        "    x = 5\n",
        "    y = 0\n",
        "    print(x/y)\n",
        "\n",
        "except NameError:\n",
        "    print(\"A name error has occured!\")\n",
        "\n",
        "except ZeroDivisionError:\n",
        "    print(\"You can't divide by zero\")\n",
        "\n",
        "print(\"Next line\")"
      ]
    },
    {
      "cell_type": "markdown",
      "metadata": {
        "id": "xfso9x3hXNCh"
      },
      "source": [
        "This can be useful for knowing what specifically has gone wrong when there is the potential for parts of the code to be error-prone.\n",
        "\n",
        "We can also write an exception clause for 'Exception' which will handle any errors that have not already been defined.\n",
        "\n",
        "We can also use **else** in our try blocks to display when no errors have occured, and we can use **finally** to close our try blocks if we desire to."
      ]
    },
    {
      "cell_type": "code",
      "execution_count": null,
      "metadata": {
        "id": "icMlKIoZXxEz"
      },
      "outputs": [],
      "source": [
        "try:\n",
        "    x = 5\n",
        "    y = 0\n",
        "    print(x/y)\n",
        "\n",
        "except NameError:\n",
        "    print(\"An error has occurred of NameError\")\n",
        "\n",
        "except ZeroDivisionError:\n",
        "    print(\"You cant divide by zero\")\n",
        "\n",
        "except Exception as exp:\n",
        "    print(\"Unspecified error has occured:\", exp)\n",
        "    \n",
        "else:\n",
        "    print(\"No errors were found\")\n",
        "\n",
        "finally:\n",
        "    print(\"End of the try block\")"
      ]
    },
    {
      "cell_type": "markdown",
      "metadata": {
        "id": "W6UoKmriYZBI"
      },
      "source": [
        "Using these techniques can help to make our code more robust, and allows us to more effectively handle when things go wrong."
      ]
    }
  ],
  "metadata": {
    "colab": {
      "collapsed_sections": [],
      "name": "Untitled6.ipynb",
      "provenance": []
    },
    "kernelspec": {
      "display_name": "Python 3.10.4 64-bit",
      "language": "python",
      "name": "python3"
    },
    "language_info": {
      "name": "python",
      "version": "3.10.4"
    },
    "vscode": {
      "interpreter": {
        "hash": "3bf76c93c2ff9ebe79eaf35b2c06a9693068b1ef90991dfb5c73e25d6251ab9c"
      }
    }
  },
  "nbformat": 4,
  "nbformat_minor": 0
}
