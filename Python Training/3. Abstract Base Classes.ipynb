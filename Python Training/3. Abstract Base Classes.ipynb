{
  "nbformat": 4,
  "nbformat_minor": 0,
  "metadata": {
    "colab": {
      "name": "Untitled3.ipynb",
      "provenance": [],
      "collapsed_sections": []
    },
    "kernelspec": {
      "name": "python3",
      "display_name": "Python 3"
    },
    "language_info": {
      "name": "python"
    }
  },
  "cells": [
    {
      "cell_type": "markdown",
      "source": [
        "# Abstract Base Classes\n",
        "\n",
        "We will be moving away from the Fitness club example now.\n",
        "\n",
        "Abstract base classes have a defined structure, but are **not implemented** themselves. They are a good example of polymorphism.\n",
        "\n",
        "Consider the following code:"
      ],
      "metadata": {
        "id": "maL3ZT836Ov5"
      }
    },
    {
      "cell_type": "code",
      "source": [
        "class Animal:\n",
        "\n",
        "    def __init__(self, theNumLegs, theCall, theName):\n",
        "        self.numLegs = theNumLegs\n",
        "        self.call = theCall\n",
        "        self.name = theName\n",
        "\n",
        "    def speak(self):\n",
        "        print(\"Implement method first in the in derived class!\")\n",
        "\n",
        "class Dog(Animal):\n",
        "\n",
        "    def __init__(self, theNumLegs, theCall, theName):\n",
        "        super().__init__(theNumLegs, theCall, theName)\n",
        "\n",
        "    def speak(self):\n",
        "        print(\"I am a dog! {self.call}, my name is {self.name}.\".format(self=self))\n",
        "\n",
        "class Buffalo(Animal):\n",
        "\n",
        "    def __init__(self, theNumLegs, theCall, theName):\n",
        "        super().__init__(theNumLegs, theCall, theName)\n",
        "\n",
        "    def speak(self):\n",
        "        print(\"My name is {self.name}. I am a buffalo. {self.call}\".format(self=self))"
      ],
      "metadata": {
        "id": "eD9SWVOm66sw"
      },
      "execution_count": 1,
      "outputs": []
    },
    {
      "cell_type": "markdown",
      "source": [
        "We are now going to implement some objects of the Animal and Buffalo class, but we are not going to implement any of the Animal class."
      ],
      "metadata": {
        "id": "DNFANeVg6-gm"
      }
    },
    {
      "cell_type": "code",
      "source": [
        "myDog = Dog(4, \"Woof!\", \"Fido\")\n",
        "myDog.speak()\n",
        "myBuffalo = Buffalo(4, \"Moo!\", \"Horace\")\n",
        "myBuffalo.speak()"
      ],
      "metadata": {
        "colab": {
          "base_uri": "https://localhost:8080/"
        },
        "id": "jz-jbFeD8ab3",
        "outputId": "dce36a7e-47ee-471e-f596-aa6239b3d60f"
      },
      "execution_count": 2,
      "outputs": [
        {
          "output_type": "stream",
          "name": "stdout",
          "text": [
            "I am a dog! Woof!, my name is Fido\n",
            "My name is Horace. I am a buffalo. Moo!\n"
          ]
        }
      ]
    },
    {
      "cell_type": "markdown",
      "source": [
        "Let's now code for a function outside of both classes, which will take any animal object as an argument."
      ],
      "metadata": {
        "id": "X8SAjakQ9SBR"
      }
    },
    {
      "cell_type": "code",
      "source": [
        "def listenTo(theAnimal):\n",
        "    print(\"{theAnimal.name} says ...\".format(theAnimal=theAnimal))\n",
        "    theAnimal.speak()"
      ],
      "metadata": {
        "id": "s9ceYI1n9j-e"
      },
      "execution_count": 5,
      "outputs": []
    },
    {
      "cell_type": "markdown",
      "source": [
        "This function will be able to take any animal object as an arguement which inherits from the 'Animal' abstract base class  and has the 'name' and 'call' attributes.\n",
        "\n",
        "Now we can call this function, passing in one of our implemented animal objects like so:"
      ],
      "metadata": {
        "id": "-YrJeosV-D1_"
      }
    },
    {
      "cell_type": "code",
      "source": [
        "listenTo(myDog)"
      ],
      "metadata": {
        "colab": {
          "base_uri": "https://localhost:8080/"
        },
        "id": "kHTgp2z8-IM_",
        "outputId": "66909172-9ff1-4aef-efbc-ba16249bbc63"
      },
      "execution_count": 6,
      "outputs": [
        {
          "output_type": "stream",
          "name": "stdout",
          "text": [
            "Fido says ...\n",
            "I am a dog! Woof!, my name is Fido\n"
          ]
        }
      ]
    },
    {
      "cell_type": "markdown",
      "source": [
        "If we try to create an object of just the Animal class, and call the speak function, we will be greeted with the error message asking us to implement this method in the derived class instead.\n",
        "\n",
        "This is because we do not implement any objects of the 'Animal' class. It is simply an Abstract Base Class.\n",
        "\n",
        "You can try adding more animal types as subclasses to the code above for more examples of inheritance.\n"
      ],
      "metadata": {
        "id": "aALSrbxB-vQ9"
      }
    }
  ]
}