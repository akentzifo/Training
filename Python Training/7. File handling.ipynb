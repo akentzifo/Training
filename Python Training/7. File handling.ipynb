{
  "cells": [
    {
      "cell_type": "markdown",
      "metadata": {
        "id": "ptlMZAPI-DEt"
      },
      "source": [
        "# File handling in Python\n",
        "\n",
        "Sometimes we will have to work with external files in Python, which contain data that we want to process.\n",
        "\n",
        "We will be using a library specifically for excel spreadsheets, but there are other libraries available for different file types.\n",
        "\n",
        "First we will import the openpyxl library. If you were running this in a terminal, you would have to install the package first.\n",
        "\n"
      ]
    },
    {
      "cell_type": "code",
      "execution_count": null,
      "metadata": {
        "id": "m3szuDuv-A9U"
      },
      "outputs": [],
      "source": [
        "import openpyxl"
      ]
    },
    {
      "cell_type": "markdown",
      "metadata": {
        "id": "FoCakNfj_z24"
      },
      "source": [
        "First we will define our workbook/spreadsheet, by calling the load_workbook function of the openpyxl module.\n",
        "\n",
        "As an argument for the load_workbook function, we will pass the file path of our workbook.\n",
        "\n"
      ]
    },
    {
      "cell_type": "code",
      "execution_count": null,
      "metadata": {
        "colab": {
          "base_uri": "https://localhost:8080/",
          "height": 329
        },
        "id": "gA7hpxGnAV97",
        "outputId": "568ea71f-4879-4b6b-bcab-fa39c0ac96bc"
      },
      "outputs": [],
      "source": [
        "book = openpyxl.load_workbook('resources/dogs.xlsx')\n",
        "sheet = book.active"
      ]
    },
    {
      "cell_type": "markdown",
      "metadata": {
        "id": "Ei1_xpBbAfSj"
      },
      "source": [
        "The data in our workbook looks something like this:\n",
        "\n",
        "\n",
        "```\n",
        "  Breed       Number\n",
        "  Poodle        10\n",
        "  Yorkshire      5\n",
        "  Jack Russel   12\n",
        "  German Shep   15\n",
        "  Corgi          3\n",
        "```\n",
        "\n",
        "Now we can use python to iterate through the rows or columns of this table.\n",
        "\n",
        "\n"
      ]
    },
    {
      "cell_type": "code",
      "execution_count": null,
      "metadata": {
        "colab": {
          "base_uri": "https://localhost:8080/",
          "height": 236
        },
        "id": "NlCHsZLRBb8Y",
        "outputId": "dbb7c31a-590f-488e-af37-3b4615f83b13"
      },
      "outputs": [],
      "source": [
        "for row in sheet.rows:\n",
        "    print(row)\n",
        "\n",
        "for col in sheet.columns:\n",
        "    print(col)"
      ]
    },
    {
      "cell_type": "markdown",
      "metadata": {},
      "source": [
        "We can also go into individual cells, and retrieve the values like so:"
      ]
    },
    {
      "cell_type": "code",
      "execution_count": null,
      "metadata": {},
      "outputs": [],
      "source": [
        "for row in sheet.rows:\n",
        "    for cell in row:\n",
        "        print(cell.value)"
      ]
    },
    {
      "cell_type": "markdown",
      "metadata": {},
      "source": [
        "This can be useful for performing calculations on sets of data, for instance, finding total and average values.\n",
        "\n",
        "We can set a variable for totalDogs and use the loop to add each cell value to a running total.\n",
        "\n",
        "(Note that when indexing a workbook and its cells, we start at 1 and not 0.)"
      ]
    },
    {
      "cell_type": "code",
      "execution_count": null,
      "metadata": {},
      "outputs": [],
      "source": [
        "totalDogs = 0\n",
        "\n",
        "for row in sheet.rows:\n",
        "    totalDogs += row[1].value\n",
        "\n",
        "\n",
        "print(\"Total number of dogs: \", totalDogs)"
      ]
    },
    {
      "cell_type": "markdown",
      "metadata": {},
      "source": [
        "The above code should throw an error, because the first row of the number column contains a string which cannot be added to the totalDogs int.\n",
        "\n",
        "We can get around this using an if statement to only add integers to the total:"
      ]
    },
    {
      "cell_type": "code",
      "execution_count": null,
      "metadata": {},
      "outputs": [],
      "source": [
        "totalDogs = 0\n",
        "\n",
        "for row in sheet.rows:\n",
        "    if isinstance(row[1].value, int):\n",
        "        totalDogs += row[1].value\n",
        "\n",
        "print(\"Total number of dogs: \", numDogs)"
      ]
    },
    {
      "cell_type": "markdown",
      "metadata": {},
      "source": [
        "We can also handle this a slightly different way, by calling the iter_rows function in the way shown below:\n",
        "\n",
        "There is a min_row arugment which we can use and set to number 2 for the second index:\n"
      ]
    },
    {
      "cell_type": "code",
      "execution_count": null,
      "metadata": {},
      "outputs": [],
      "source": [
        "totalDogs = 0\n",
        "\n",
        "for row in sheet.iter_rows(min_row = 2):\n",
        "    totalDogs += row[1].value\n",
        "\n",
        "print(\"Total number of dogs: \", numDogs)"
      ]
    },
    {
      "cell_type": "markdown",
      "metadata": {},
      "source": [
        "We can also alter the values, for example, by adding 10 to each of them.\n",
        "\n",
        "We can then save the changes we made to a new file."
      ]
    },
    {
      "cell_type": "code",
      "execution_count": null,
      "metadata": {},
      "outputs": [],
      "source": [
        "for row in sheet.iter_rows(min_row = 2):\n",
        "    row[1].value += 10\n",
        "    print(\"New value: \", row[1].value)\n",
        "\n",
        "book.save(\"dogs1.xlsx\")"
      ]
    },
    {
      "cell_type": "markdown",
      "metadata": {},
      "source": [
        "If we want to create a new file from scratch we can start a new workbook and write to it.\n",
        "\n",
        "We can set the top row by creating a tuple and then appending it to our new workbook:"
      ]
    },
    {
      "cell_type": "code",
      "execution_count": null,
      "metadata": {},
      "outputs": [],
      "source": [
        "book2 = openpyxl.Workbook()\n",
        "sheet2 = book2.active\n",
        "\n",
        "topRow = (\"Name\", \"Favourite Food\", \"Age\")\n",
        "sheet2.append(topRow)\n",
        "\n",
        "book2.save(\"foods.xlsx\")"
      ]
    },
    {
      "cell_type": "markdown",
      "metadata": {},
      "source": [
        "Similar techniques are used in other libraries for handling different types of files, eg, .csv and .tsv.\n",
        "\n",
        "This is also similar to how data frames are maniuplated in the pandas library, a popular tool in python.\n",
        "\n",
        "We will explore the pandas library and data frames in a future tutorial, as it is a valuable tool."
      ]
    }
  ],
  "metadata": {
    "colab": {
      "collapsed_sections": [],
      "name": "Untitled7.ipynb",
      "provenance": []
    },
    "kernelspec": {
      "display_name": "Python 3.10.4 64-bit",
      "language": "python",
      "name": "python3"
    },
    "language_info": {
      "name": "python",
      "version": "3.10.4"
    },
    "vscode": {
      "interpreter": {
        "hash": "3bf76c93c2ff9ebe79eaf35b2c06a9693068b1ef90991dfb5c73e25d6251ab9c"
      }
    }
  },
  "nbformat": 4,
  "nbformat_minor": 0
}
