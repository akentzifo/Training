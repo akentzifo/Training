{
  "cells": [
    {
      "cell_type": "markdown",
      "metadata": {
        "id": "hJMT1PIS7Ur2"
      },
      "source": [
        "# Using the import command\n",
        "\n",
        "Each python file you create is also called a *module*.\n",
        "\n",
        "The import command is used to bring external functionality into a python module by *importing* another module.\n",
        "\n",
        "This helps to keep code organised.\n",
        "\n",
        "Copy and paste the code from the previous tutorial's Animal class into a new blank file, and save it as a .py file.\n",
        "\n",
        "Make sure it is placed in the same directory as this notebook file. Here it is below for ease:\n",
        "\n",
        "\n",
        "```\n",
        "class Animal:\n",
        "\n",
        "    def __init__(self, theNumLegs, theCall, theName):\n",
        "        self.numLegs = theNumLegs\n",
        "        self.call = theCall\n",
        "        self.name = theName\n",
        "\n",
        "    def speak(self):\n",
        "        print(\"Implement method first in the in derived class!\")\n",
        "```\n",
        "We are going to import this class into our code today, bringing in all the functionality of Animals into a separate file.\n",
        "\n"
      ]
    },
    {
      "cell_type": "code",
      "execution_count": null,
      "metadata": {
        "colab": {
          "base_uri": "https://localhost:8080/",
          "height": 374
        },
        "id": "qItkobTwrl3I",
        "outputId": "d02f4f15-243d-4e3e-a253-f93d1418ba5e"
      },
      "outputs": [],
      "source": [
        "from animals import Animals\n",
        "\n",
        "class Enclosure:\n",
        "  \n",
        "    def __init__(self, theOccupant):\n",
        "        self.occupant = theOccupant\n",
        "\n",
        "leo = Animals.Lion(4, \"Roarr!\", \"Leo\")\n",
        "enc1 = Enclosure(leo)\n",
        "bruce = Animals.Shark(0, \"I want fish!\", \"Bruce\")\n",
        "enc2 = Enclosure(bruce)\n",
        "bruce.speak()\n",
        "Animals.listenTo(bruce)\n",
        "Animals.listenTo(leo)"
      ]
    }
  ],
  "metadata": {
    "colab": {
      "name": "Untitled4.ipynb",
      "provenance": []
    },
    "kernelspec": {
      "display_name": "Python 3.10.4 64-bit",
      "language": "python",
      "name": "python3"
    },
    "language_info": {
      "name": "python",
      "version": "3.10.4"
    },
    "vscode": {
      "interpreter": {
        "hash": "3bf76c93c2ff9ebe79eaf35b2c06a9693068b1ef90991dfb5c73e25d6251ab9c"
      }
    }
  },
  "nbformat": 4,
  "nbformat_minor": 0
}
