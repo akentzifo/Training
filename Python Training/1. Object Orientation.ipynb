{
  "nbformat": 4,
  "nbformat_minor": 0,
  "metadata": {
    "colab": {
      "name": "Untitled0.ipynb",
      "provenance": [],
      "collapsed_sections": []
    },
    "kernelspec": {
      "name": "python3",
      "display_name": "Python 3"
    },
    "language_info": {
      "name": "python"
    }
  },
  "cells": [
    {
      "cell_type": "markdown",
      "source": [
        "# **Object Orientation in Python**\n",
        "\n",
        "Python is an object oriented language. Previous exercises have only used a procedural approach (ie. line by line)\n",
        "\n",
        "For example, we could be writing code to describe a person. In this instance, we could create the following variables:\n",
        "\n",
        "\n",
        "```\n",
        "String: name\n",
        "Int: Age\n",
        "Float: Weight\n",
        "Float: Height \n",
        "```\n",
        "\n",
        "\n",
        "Now what if we wanted to describe multiple people? There is a more efficient way than using nested dictionaries or lists.\n",
        "\n",
        "\n",
        "\n",
        "* In programming, an **object** is an enitity that has Attributes (variables), methods (associated functions), and a local internal state.\n",
        "\n",
        "* A *class* allows us to specify variables and methods for creating an **object**. \n",
        "\n",
        "\n",
        "Objects allow multiple versions of the same variables to be used in python, for example: to represent different people who all have a unique name, age, weight, and height\n",
        "\n",
        "To represent a person, we could create an object called 'Person' with the following variables and methods:\n",
        "\n",
        "```\n",
        "# Example Variables\n",
        "String: name\n",
        "Int: Age\n",
        "Float: Weight\n",
        "Float: Height \n",
        "\n",
        "# Example Methods\n",
        "getName()\n",
        "getAge()\n",
        "getWeight()\n",
        "getHeight()\n",
        "\n",
        "```\n",
        "Classes that represent objects feature an initialiser method which assigns attributes to the object as variables. This is demonstrated below, alongside two example methods and how they could be added:"
      ],
      "metadata": {
        "id": "t8nV9hPWiM6e"
      }
    },
    {
      "cell_type": "code",
      "source": [
        "class Person():\n",
        "  def __init__(self, nameArg, ageArg, weightArg, heightArg):\n",
        "    self.name = nameArg\n",
        "    self.age = ageArg\n",
        "    self.weight = weightArg\n",
        "    self.height = heightArg\n",
        "\n",
        "  def getName(self):\n",
        "    print(\"Their name is: \" + self.name)\n",
        "  \n",
        "  def getAge(self):\n",
        "    print(\"Their age is: \" + self.age)"
      ],
      "metadata": {
        "id": "svVLXW9aavqQ"
      },
      "execution_count": 2,
      "outputs": []
    },
    {
      "cell_type": "markdown",
      "source": [
        "\n",
        "An *instance* is a specific occurence of a *class*. For example, we could create an instances of the Person *class* to represent specific people. "
      ],
      "metadata": {
        "id": "wF-NW0Tfaz84"
      }
    },
    {
      "cell_type": "code",
      "source": [
        "person1 = Person('William', 21, 70.0, 175.0)\n",
        "person2 = Person('Chloe', 20, 55.0, 160.5)"
      ],
      "metadata": {
        "id": "0WRp9Kv6a5k1"
      },
      "execution_count": 3,
      "outputs": []
    },
    {
      "cell_type": "markdown",
      "source": [
        "The variables person1 and person2 have been made using the same 'template' but have unique internal states. They are two instances of the Person class.\n",
        "\n",
        "Calling the getName method on these variables should print out their respective names."
      ],
      "metadata": {
        "id": "2trfr5uia9CT"
      }
    },
    {
      "cell_type": "code",
      "source": [
        "person1.getName()\n",
        "person2.getName()"
      ],
      "metadata": {
        "colab": {
          "base_uri": "https://localhost:8080/"
        },
        "id": "IW1Npmm5aLpa",
        "outputId": "7441c4c1-3219-4ea1-c609-486d799d50a6"
      },
      "execution_count": 4,
      "outputs": [
        {
          "output_type": "stream",
          "name": "stdout",
          "text": [
            "Their name is: William\n",
            "Their name is: Chloe\n"
          ]
        }
      ]
    },
    {
      "cell_type": "markdown",
      "source": [
        "A class should:\n",
        "* Encapsulate a single idea\n",
        "* Be self contained\n",
        "* Serve a single purpose\n",
        "\n",
        "We can create another class called FitnessClub to represent a seperate object. This class can have a list variable called people, which features instances of the person class, along with related methods.\n",
        "\n",
        "```\n",
        "# Example Variables\n",
        "List : people\n",
        "String : location\n",
        "\n",
        "#Example Methods:\n",
        "addPerson()\n",
        "removePerson()\n",
        "```\n",
        "\n",
        "The 'people' variable within the FitnessClub class is assigned to a list. In python, a list can contain objects, so we can add instances of the Person class to this list."
      ],
      "metadata": {
        "id": "Mt8dGRWIaL_G"
      }
    },
    {
      "cell_type": "code",
      "source": [
        "class FitnessClub:\n",
        "\n",
        "    def __init__(self, locationArg):\n",
        "        self.people = [] \n",
        "        self.location = locationArg\n",
        "\n",
        "    def addPerson(self, thePerson):\n",
        "        self.people.append(thePerson)\n",
        "        print(\"New member: \" + thePerson.name)\n",
        "    \n",
        "    def removePerson(self, thePerson):\n",
        "        self.people.remove(thePerson)\n",
        "        print(\"Removed member: \" + thePerson.name)\n",
        "\n",
        "    def showMembers(self):\n",
        "        print(\"Members in the \" + self.location + \" club:\")\n",
        "        for item in self.people:\n",
        "          print(item.name)\n",
        "        "
      ],
      "metadata": {
        "id": "suaoXCXnYGB3"
      },
      "execution_count": 1,
      "outputs": []
    },
    {
      "cell_type": "markdown",
      "source": [
        "We can now create an object from the FitnessClub class as shown below:"
      ],
      "metadata": {
        "id": "2OFbiNDa3O4N"
      }
    },
    {
      "cell_type": "code",
      "source": [
        "zifoclub = FitnessClub(\"Zifoville\")"
      ],
      "metadata": {
        "id": "4yGqapW03qRO"
      },
      "execution_count": 5,
      "outputs": []
    },
    {
      "cell_type": "markdown",
      "source": [
        "We can then add objects of the Person class to the *people* list within our fitness club object that we have just created."
      ],
      "metadata": {
        "id": "jkJJ2sYE43tP"
      }
    },
    {
      "cell_type": "code",
      "source": [
        "zifoclub.addPerson(person1)\n",
        "zifoclub.addPerson(person2)"
      ],
      "metadata": {
        "colab": {
          "base_uri": "https://localhost:8080/"
        },
        "id": "z-uJt4XW43Ww",
        "outputId": "d7f8da51-6086-4e2a-e218-eb1d2119be12"
      },
      "execution_count": 6,
      "outputs": [
        {
          "output_type": "stream",
          "name": "stdout",
          "text": [
            "New member: William\n",
            "New member: Chloe\n"
          ]
        }
      ]
    },
    {
      "cell_type": "markdown",
      "source": [
        "We can then use the showMembers method, featuring a for loop, to iterate through the objects in the *people* list and print out the name variable assigned to each of those objects."
      ],
      "metadata": {
        "id": "FsgzcuFQ6zH0"
      }
    },
    {
      "cell_type": "code",
      "source": [
        "zifoclub.showMembers()"
      ],
      "metadata": {
        "colab": {
          "base_uri": "https://localhost:8080/"
        },
        "id": "NaUAcIUP7ADN",
        "outputId": "814c8b92-6229-455f-af37-9589a5cfcbb4"
      },
      "execution_count": 7,
      "outputs": [
        {
          "output_type": "stream",
          "name": "stdout",
          "text": [
            "Members in the Zifoville club:\n",
            "William\n",
            "Chloe\n"
          ]
        }
      ]
    },
    {
      "cell_type": "markdown",
      "source": [
        "Feel free to play around with the current code and/or add new methods to it.\n",
        "\n",
        "How would you add a method to the FitnessClub class to retrieve a members age? How would you execute this?\n",
        "\n",
        "In our next excercise we will explore inheritance!"
      ],
      "metadata": {
        "id": "sC1EFlku7mYm"
      }
    }
  ]
}