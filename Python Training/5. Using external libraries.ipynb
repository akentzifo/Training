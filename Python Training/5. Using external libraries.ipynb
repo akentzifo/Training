{
  "cells": [
    {
      "cell_type": "markdown",
      "metadata": {
        "id": "qBndkY6G-ipC"
      },
      "source": [
        "# Using the Import command: External Libraries\n",
        "\n",
        "Each python file you create is also called a *module*.\n",
        "\n",
        "The import command is used to bring external functionality into a python module by *importing* another module.\n",
        "\n",
        "This helps to keep code organised.\n",
        "\n",
        "You can import from local modules you have created yourself, but there are also many external modules available for use.\n"
      ]
    },
    {
      "cell_type": "code",
      "execution_count": null,
      "metadata": {
        "id": "rCPYZKGf_bBE"
      },
      "outputs": [],
      "source": [
        "import random\n",
        "import datetime"
      ]
    },
    {
      "cell_type": "markdown",
      "metadata": {
        "id": "r0h7dPyM_pOX"
      },
      "source": [
        "Here are two examples of libraries that are available for extending the functionality of your code.\n",
        "\n",
        "These two are built-in to most python distributions, so do not require any extra installation steps.\n",
        "\n"
      ]
    },
    {
      "cell_type": "code",
      "execution_count": null,
      "metadata": {
        "colab": {
          "base_uri": "https://localhost:8080/"
        },
        "id": "sJyKk-d1AIpF",
        "outputId": "040a012a-d16d-48e3-dde0-b003ac5a3fc4"
      },
      "outputs": [],
      "source": [
        "#Print 5 random numbers between 1 and 100\n",
        "for i in range(0,5):\n",
        "    x = random.randint(1,100)\n",
        "    print(x)"
      ]
    },
    {
      "cell_type": "markdown",
      "metadata": {
        "id": "r86GnGZaAPGR"
      },
      "source": [
        "In the above for loop, we have assigned the variable 'x' using an imported function.\n",
        "\n",
        "We have called a function called 'randint', which is within the external class 'random'.\n",
        "\n",
        "This function takes two arguments (a min and a max value), and *returns* a random number between those values."
      ]
    },
    {
      "cell_type": "code",
      "execution_count": null,
      "metadata": {
        "colab": {
          "base_uri": "https://localhost:8080/"
        },
        "id": "hqZ6AtO1BrOv",
        "outputId": "5ae91106-96f7-4f70-e60f-f9a2b99d6adc"
      },
      "outputs": [],
      "source": [
        "today = datetime.datetime.now()\n",
        "print(\"Today is: \", today)\n",
        "\n",
        "# Extra functionality\n",
        "print(\"The month:\", today.month)\n",
        "print(\"The day:\", today.day)\n",
        "print(\"The year:\", today.year)"
      ]
    },
    {
      "cell_type": "markdown",
      "metadata": {
        "id": "N64Fp6laBxWg"
      },
      "source": [
        "The above is another example of how external libraries can bring extra functionality into your code.\n",
        "\n",
        "Let's now work on an example where the use of both libraries can be combined."
      ]
    },
    {
      "cell_type": "code",
      "execution_count": null,
      "metadata": {
        "colab": {
          "base_uri": "https://localhost:8080/"
        },
        "id": "8p6qFIvtDxub",
        "outputId": "d69cc8ab-b831-487d-d2d9-08bb6b13c57f"
      },
      "outputs": [],
      "source": [
        "randomYear = random.randint(1900,2100)\n",
        "print(\"The random year is\", randomYear)\n",
        "\n",
        "# Using both libraries together.\n",
        "if (randomYear < today.year):\n",
        "    print(randomYear, \"is in the past.\")\n",
        "\n",
        "elif (randomYear == today.year):\n",
        "    print(randomYear, \"is in the present.\")\n",
        "\n",
        "elif (randomYear > today.year):\n",
        "    print(randomYear, \"is in the future.\")"
      ]
    },
    {
      "cell_type": "markdown",
      "metadata": {
        "id": "1DSd0T37FOyX"
      },
      "source": [
        "There are many other libraries available online that can be installed using the *pip install* command. \n",
        "\n",
        "This is another reason why Python is such a versatile language."
      ]
    }
  ],
  "metadata": {
    "colab": {
      "collapsed_sections": [],
      "name": "Untitled5.ipynb",
      "provenance": []
    },
    "kernelspec": {
      "display_name": "Python 3.10.4 64-bit",
      "language": "python",
      "name": "python3"
    },
    "language_info": {
      "name": "python",
      "version": "3.10.4"
    },
    "vscode": {
      "interpreter": {
        "hash": "3bf76c93c2ff9ebe79eaf35b2c06a9693068b1ef90991dfb5c73e25d6251ab9c"
      }
    }
  },
  "nbformat": 4,
  "nbformat_minor": 0
}
