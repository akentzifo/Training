{
  "nbformat": 4,
  "nbformat_minor": 0,
  "metadata": {
    "colab": {
      "name": "Untitled2.ipynb",
      "provenance": [],
      "collapsed_sections": []
    },
    "kernelspec": {
      "name": "python3",
      "display_name": "Python 3"
    },
    "language_info": {
      "name": "python"
    }
  },
  "cells": [
    {
      "cell_type": "markdown",
      "source": [
        "# Inheritance and Polymorphism\n",
        "\n",
        "Lets revisit the previous example of a Fitness club. Management have decided they want to add a \"Premium membership\" to the fitness club.\n",
        "\n",
        "Premium members will have:\n",
        "*   All the elements of regular \"Person\" membership\n",
        "*   A favourite sport\n",
        "*   The ability to attend classes\n",
        "\n",
        "We will be creating a new object to represent the people who are premium members.\n",
        "\n",
        "In this instance, you may be tempted to simply copy and paste the other Person class and make a few changes, however this is something that we should *not* do.\n",
        "\n",
        "This is because:\n",
        "\n",
        "*   Leads to lots of repeated code\n",
        "*   Changes to common code in one class will have to be repeated in all the other classes\n",
        "*   Does not allow for Polymorphism\n",
        "\n",
        "Inheritance allows a **subclass** to inherit attributes and functions from a **superclass**.\n",
        "\n",
        "A superclass and a subclass have a parent and child relationship (For example: A superclass could be 'animal', and a subclass could be 'dog', 'cat', 'fish' etc.).\n",
        "\n",
        "Let's go back to take a look at our 'Person' class."
      ],
      "metadata": {
        "id": "RM5gUF5g-ZQs"
      }
    },
    {
      "cell_type": "code",
      "source": [
        "class Person():\n",
        "  def __init__(self, nameArg, ageArg, weightArg, heightArg):\n",
        "    self.name = nameArg\n",
        "    self.age = ageArg\n",
        "    self.weight = weightArg\n",
        "    self.height = heightArg\n",
        "\n",
        "  def getName(self):\n",
        "    print(\"Their name is: \" + self.name)\n",
        "  \n",
        "  def getAge(self):\n",
        "    print(\"Their age is: \" + str(self.age))"
      ],
      "metadata": {
        "id": "9d22bBAVsaX3"
      },
      "execution_count": 9,
      "outputs": []
    },
    {
      "cell_type": "markdown",
      "source": [
        "Let us now create a subclass of 'Person' and call it 'PremiumMember'.\n",
        "\n",
        "This subclass will have the following attributes and functions from 'Person', plus a little bit more:\n",
        "\n",
        "```\n",
        "# Inherited Variables\n",
        "String: name\n",
        "Int: Age\n",
        "Float: Weight\n",
        "Float: Height \n",
        "\n",
        "# Inherited Methods\n",
        "getName()\n",
        "getAge()\n",
        "getWeight()\n",
        "getHeight()\n",
        "```\n",
        "If we were drawing an entity relatonship diagram of the two classes. We could leave the box for 'PremiumMember' blank and simply draw an arrow towards Person to represent the inheritance.\n",
        "\n",
        "When coding this class, we should pass the superclass in as an argument of the subclass, for example:\n",
        "\n",
        "```\n",
        "class PremiumMember(Person)\n",
        "```\n",
        "\n",
        "Then we use the super() function to show what is inherited:"
      ],
      "metadata": {
        "id": "tscE0nwFsgvC"
      }
    },
    {
      "cell_type": "code",
      "source": [
        "class PremiumMember(Person):\n",
        "    \n",
        "    def __init__(self, nameArg, ageArg, weightArg, heightArg, sportArg):\n",
        "        \n",
        "        super().__init__(nameArg, ageArg, weightArg, heightArg)\n",
        "        # We can then add PremiumMember specific attributes eg. favSport\n",
        "        self.favSport = sportArg\n",
        "        print(\"A new Premium Member has been created: Hello {self.name}, their favourite sport is {self.favSport}!\".format(self=self))\n",
        "    \n",
        "    def attendClass(self):\n",
        "        print(\"{self.name} is attending a {self.favSport} class.\".format(self=self))\n",
        "    "
      ],
      "metadata": {
        "id": "3DxvPq0Nt6Pj"
      },
      "execution_count": 10,
      "outputs": []
    },
    {
      "cell_type": "markdown",
      "source": [
        "Let's bring back our two people from before, and create an extra person as a premium member"
      ],
      "metadata": {
        "id": "fyv4u_qtx4OI"
      }
    },
    {
      "cell_type": "code",
      "source": [
        "person1 = Person('William', 21, 70.0, 175.0)\n",
        "person2 = Person('Chloe', 20, 55.0, 160.5)\n",
        "person3 = PremiumMember('Harold', 22, 70.0, 170.0, 'Swimming')"
      ],
      "metadata": {
        "colab": {
          "base_uri": "https://localhost:8080/"
        },
        "id": "dck1_-kzyS64",
        "outputId": "7e6e8e4e-29b3-44da-ada7-54f4beaa17d7"
      },
      "execution_count": 11,
      "outputs": [
        {
          "output_type": "stream",
          "name": "stdout",
          "text": [
            "A new Premium Member has been created: Hello Harold, their favourite sport is Swimming!\n"
          ]
        }
      ]
    },
    {
      "cell_type": "markdown",
      "source": [
        "Because person3 has inherited functions from the Person class, we can call these like so:"
      ],
      "metadata": {
        "id": "4Kvg-qHCzJze"
      }
    },
    {
      "cell_type": "code",
      "source": [
        "person3.getName()\n",
        "person3.getAge()"
      ],
      "metadata": {
        "colab": {
          "base_uri": "https://localhost:8080/"
        },
        "id": "TyVBTYIczTCT",
        "outputId": "5a7b3aa8-6412-495a-9dbd-9723ad7a64fb"
      },
      "execution_count": 12,
      "outputs": [
        {
          "output_type": "stream",
          "name": "stdout",
          "text": [
            "Their age is: 22\n"
          ]
        }
      ]
    },
    {
      "cell_type": "markdown",
      "source": [
        "Inheritance allows a subclass to **override** functions of a superclass.\n",
        "\n",
        "To demonstrate this, lets give premium members their own implementaion of the getName method. \n",
        "\n",
        "Copy and paste the method below into the PremiumMember class above:\n",
        "\n",
        "```\n",
        "    def getName(self):\n",
        "        print(\"We love our premium member: \" + self.name)\n",
        "```\n",
        "Now try running the code block above again which calls the getName and getAge functions, you will see that the getName function from Person has been overridden by the getName function of the subclass.\n",
        "\n",
        "Inheritance allows overriding of the superclass.\n",
        "\n",
        "This is also a form of polymorhpism, allowing us to use code that is flexible.  \n",
        "\n",
        "We could add a PremiumMember object to one of the fitness clubs from the previous lesson, because a PremiumMember object '*is*' a Person object, and the code would run sucessfully! Try this out by adding the PremiumMember class to the last notebook.\n",
        "\n",
        "The next lesson will be about Abstract Base Classes.\n"
      ],
      "metadata": {
        "id": "xgnz5-wh0Exs"
      }
    }
  ]
}