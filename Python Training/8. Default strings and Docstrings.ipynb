{
  "cells": [
    {
      "cell_type": "markdown",
      "metadata": {
        "id": "EhjvQQKh24d5"
      },
      "source": [
        "# Docstrings and default strings\n",
        "\n",
        "We will be using our previous fitness club example for this lesson.\n",
        "\n",
        "Take a minute to view the code below and remind yourself.\n"
      ]
    },
    {
      "cell_type": "code",
      "execution_count": null,
      "metadata": {
        "colab": {
          "base_uri": "https://localhost:8080/"
        },
        "id": "bCavDbUB2Uhd",
        "outputId": "e6bcb3eb-32ac-4b74-d300-25271dd5c191"
      },
      "outputs": [
        {
          "name": "stdout",
          "output_type": "stream",
          "text": [
            "New member: William\n",
            "New member: Chloe\n"
          ]
        }
      ],
      "source": [
        "class Person():\n",
        "    def __init__(self, nameArg, ageArg, weightArg, heightArg):\n",
        "        self.name = nameArg\n",
        "        self.age = ageArg\n",
        "        self.weight = weightArg\n",
        "        self.height = heightArg\n",
        "\n",
        "    def getName(self):\n",
        "        print(\"Their name is: \" + self.name)\n",
        "  \n",
        "    def getAge(self):\n",
        "        print(\"Their age is: \" + str(self.age))\n",
        "\n",
        "class FitnessClub:\n",
        "    def __init__(self, locationArg):\n",
        "        self.people = [] \n",
        "        self.location = locationArg\n",
        "\n",
        "    def addPerson(self, thePerson):\n",
        "        self.people.append(thePerson)\n",
        "        print(\"New member: \" + thePerson.name)\n",
        "    \n",
        "    def removePerson(self, thePerson):\n",
        "        self.people.remove(thePerson)\n",
        "        print(\"Removed member: \" + thePerson.name)\n",
        "\n",
        "    def viewMembers(self):\n",
        "        print(\"Members:\")\n",
        "        for person in self.people:\n",
        "            print(person)\n",
        "\n",
        "zifoclub = FitnessClub(\"Zifoville\")\n",
        "person1 = Person('William', 21, 70.0, 175.0)\n",
        "person2 = Person('Chloe', 20, 55.0, 160.5)\n",
        "zifoclub.addPerson(person1)\n",
        "zifoclub.addPerson(person2)"
      ]
    },
    {
      "cell_type": "markdown",
      "metadata": {
        "id": "TFizDIv54Cld"
      },
      "source": [
        "A new method has been introduced, viewMembers, which we want to retrieve data about the club object it is called for.\n",
        "\n",
        "When we run this method, it doesn't quite return what we might like to see."
      ]
    },
    {
      "cell_type": "code",
      "execution_count": null,
      "metadata": {
        "colab": {
          "base_uri": "https://localhost:8080/"
        },
        "id": "Z173vvJD6jgk",
        "outputId": "2dbb6888-0cf4-485c-d9e1-eb7ac8587235"
      },
      "outputs": [
        {
          "name": "stdout",
          "output_type": "stream",
          "text": [
            "VIEW MEMBERS:\n",
            "<__main__.Person object at 0x7f3c51052490>\n",
            "<__main__.Person object at 0x7f3c51052e10>\n"
          ]
        }
      ],
      "source": [
        "zifoclub.viewMembers()"
      ]
    },
    {
      "cell_type": "markdown",
      "metadata": {
        "id": "rB5NFSiY6jm_"
      },
      "source": [
        "Similar to having an initialiser `__init__` method, a class can also have a `__str__` method.\n",
        "\n",
        "This is used to provide a default string representation of the object, which should articulate the object for us.\n",
        "\n",
        "Try pasting the copying method into the Person class, just below the `__init__` method:\n",
        "\n",
        "\n",
        "```\n",
        "def __str__(self):\n",
        "    return '{self.name}, age {self.age}. {self.height} tall.'format(self=self)\n",
        "```\n",
        "Then try running the block above again.\n",
        "\n",
        "\n",
        "# Docstrings\n",
        "\n",
        "These provide us with information about the inputs and outputs of the function.\n",
        "\n",
        "These are not processed by the interpreter, similar to comments, but they can span multiple lines.\n",
        "\n",
        "Consider the following code, and paste it in the fitness club class beneath the line containing `def addPerson(self):`\n",
        "\n",
        "\n",
        "\n",
        "```\n",
        "'''\n",
        "addPerson adds a person object to fitnessclub.\n",
        "\n",
        "Parameters:\n",
        "    thePerson : Person - The person object who is being added\n",
        "\n",
        "Return:\n",
        "    Nothing\n",
        "'''\n",
        "```"
      ]
    },
    {
      "cell_type": "code",
      "execution_count": 12,
      "metadata": {
        "colab": {
          "base_uri": "https://localhost:8080/"
        },
        "id": "LoAIKsvNExcZ",
        "outputId": "a0b42e9c-9b16-4b79-dd1e-dd6c521039c2"
      },
      "outputs": [
        {
          "name": "stdout",
          "output_type": "stream",
          "text": [
            "Help on class FitnessClub in module __main__:\n",
            "\n",
            "class FitnessClub(builtins.object)\n",
            " |  FitnessClub(locationArg)\n",
            " |  \n",
            " |  Methods defined here:\n",
            " |  \n",
            " |  __init__(self, locationArg)\n",
            " |      Initialize self.  See help(type(self)) for accurate signature.\n",
            " |  \n",
            " |  addPerson(self, thePerson)\n",
            " |  \n",
            " |  removePerson(self, thePerson)\n",
            " |  \n",
            " |  viewMembers(self)\n",
            " |  \n",
            " |  ----------------------------------------------------------------------\n",
            " |  Data descriptors defined here:\n",
            " |  \n",
            " |  __dict__\n",
            " |      dictionary for instance variables (if defined)\n",
            " |  \n",
            " |  __weakref__\n",
            " |      list of weak references to the object (if defined)\n",
            "\n"
          ]
        }
      ],
      "source": [
        "help(FitnessClub)"
      ]
    },
    {
      "cell_type": "markdown",
      "metadata": {
        "id": "vlCzotn4GF_d"
      },
      "source": [
        "Now if we type `help(FitnessClub)` into a python interpreter, some documentation will be generated which will feature our docstrings at their associated methods.\n",
        "\n",
        "\n",
        "The parameters section lists the input arguments/parameters and their type (eg. String/Int/List or an object name).\n",
        "\n",
        "The returns section is used if the function returns something, such as a string or another object, but our example in this excercise returns nothing."
      ]
    }
  ],
  "metadata": {
    "colab": {
      "collapsed_sections": [],
      "name": "Untitled8.ipynb",
      "provenance": []
    },
    "kernelspec": {
      "display_name": "Python 3.10.4 64-bit",
      "language": "python",
      "name": "python3"
    },
    "language_info": {
      "name": "python",
      "version": "3.10.4"
    },
    "vscode": {
      "interpreter": {
        "hash": "3bf76c93c2ff9ebe79eaf35b2c06a9693068b1ef90991dfb5c73e25d6251ab9c"
      }
    }
  },
  "nbformat": 4,
  "nbformat_minor": 0
}
